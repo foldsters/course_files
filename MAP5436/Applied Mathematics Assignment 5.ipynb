{
 "cells": [
  {
   "cell_type": "markdown",
   "metadata": {},
   "source": [
    "# Assignment 5\n",
    "Matt Giallourakis"
   ]
  },
  {
   "cell_type": "markdown",
   "metadata": {},
   "source": [
    "## 1. Find the Fourier Series of $f(x)$\n",
    "$f(x) = \\begin{cases}\n",
    "0 & -2 \\lt x \\lt 0 \\\\\n",
    "2 & 0 \\lt x \\lt 2\n",
    "\\end{cases}\n",
    "$"
   ]
  },
  {
   "cell_type": "code",
   "execution_count": 1,
   "metadata": {},
   "outputs": [],
   "source": [
    "%matplotlib inline"
   ]
  },
  {
   "cell_type": "code",
   "execution_count": 2,
   "metadata": {},
   "outputs": [
    {
     "data": {
      "image/png": "[encoded data removed]",
      "text/plain": [
       "<Figure size 432x288 with 1 Axes>"
      ]
     },
     "metadata": {
      "needs_background": "light"
     },
     "output_type": "display_data"
    }
   ],
   "source": [
    "import matplotlib\n",
    "import matplotlib.pyplot as plt\n",
    "import numpy as np\n",
    "\n",
    "# Data for plotting\n",
    "t = np.arange(-2.0, 2.0, 0.01)\n",
    "s = np.heaviside(t, 1)*2\n",
    "\n",
    "fig, ax = plt.subplots()\n",
    "ax.plot(t, s)\n",
    "\n",
    "ax.set(xlabel='x', ylabel='f(x)')\n",
    "\n",
    "plt.show()"
   ]
  },
  {
   "cell_type": "markdown",
   "metadata": {},
   "source": [
    "$L = 2$"
   ]
  },
  {
   "cell_type": "markdown",
   "metadata": {},
   "source": [
    "## $a_0$\n",
    "\n",
    "$ \\large a_0 = \\frac{1}{2L} \\int_{-L}^{L} f(x) ~dx \n",
    "= \\frac{1}{4} \\int_{-2}^{2} f(x) ~dx $\n",
    "\n",
    "$\\large = \\frac{1}{4} \\int_{-2}^{0} 0 ~dx + \\frac{1}{4} \\int_{0}^{2} 2 ~dx $\n",
    "\n",
    "$\\large = 0 + \\frac{1}{4}4 = 1 $ "
   ]
  },
  {
   "cell_type": "markdown",
   "metadata": {},
   "source": [
    "## $a_n$\n",
    "\n",
    "$\\large a_n = \\frac{1}{L} \\int_{-L}^{L} f(x) \\cos \\frac{n\\pi x}{L} ~dx$\n",
    "\n",
    "$\\large = \\frac{1}{2} \\int_{-2}^{2} f(x) \\cos \\frac{n\\pi x}{2} ~dx$\n",
    "\n",
    "$\\large = \\frac{1}{2} \\int_{-2}^{0} 0\\cos \\frac{n\\pi x}{2} ~dx +\n",
    "\\frac{1}{2} \\int_{0}^{2} 2 \\cos \\frac{n\\pi x}{2} ~dx $\n",
    "\n",
    "$\\large = 0$"
   ]
  },
  {
   "cell_type": "markdown",
   "metadata": {},
   "source": [
    "### $b_n$\n",
    "\n",
    "$\\large b_n = \\frac{1}{L} \\int_{-L}^{L} f(x) \\sin \\frac{n\\pi x}{L} ~dx$\n",
    "\n",
    "$\\large  = \\frac{1}{2} \\int_{-2}^{2} f(x) \\sin \\frac{n\\pi x}{2} ~dx$\n",
    "\n",
    "$\\large  = \\frac{1}{2} \\int_{-2}^{0} 0\\sin \\frac{n\\pi x}{2} ~dx +\n",
    "\\frac{1}{2} \\int_{0}^{2} 2 \\sin \\frac{n\\pi x}{2} ~dx $\n",
    "\n",
    "$\\large  = \\frac{4}{\\pi},~0,~\\frac{4}{3\\pi},~0,~\\frac{4}{5\\pi},~...$"
   ]
  },
  {
   "cell_type": "markdown",
   "metadata": {},
   "source": [
    "## $f(x)$"
   ]
  },
  {
   "cell_type": "markdown",
   "metadata": {},
   "source": [
    "$\\large  f(x) = a_0 + \\sum_{n=1}^{\\infty}\\left(a_n \\cos~\\frac{n\\pi}{L}x + b_n \\sin~\\frac{n\\pi}{L}x\\right) $\n",
    "\n",
    "$\\large \n",
    "1 + \\sum_{n=1}^{\\infty}\\left( b_n \\sin~\\frac{n\\pi}{2}x\\right) $\n",
    "\n",
    "$\\large \n",
    "= 1 + \\frac{4}{\\pi} \\sin \\frac{\\pi}{2}x + \n",
    "\\frac{4}{3\\pi} \\sin \\frac{3\\pi}{2}x + \n",
    "\\frac{4}{5\\pi} \\sin \\frac{5\\pi}{2}x +~...\n",
    "$\n",
    "\n",
    "$\\large \n",
    "= 1 + 4\\sum_{n=1}^{\\infty} \\frac{1}{2n-1} \\sin \\frac{\\pi (2n-1)}{2}x\n",
    "$"
   ]
  },
  {
   "cell_type": "code",
   "execution_count": 3,
   "metadata": {},
   "outputs": [
    {
     "data": {
      "application/vnd.jupyter.widget-view+json": {
       "model_id": "8a91243ba0484df99717c2b8bcf92c0f",
       "version_major": 2,
       "version_minor": 0
      },
      "text/plain": [
       "interactive(children=(IntSlider(value=10, description='N', max=30, min=2), Output()), _dom_classes=('widget-in…"
      ]
     },
     "metadata": {},
     "output_type": "display_data"
    }
   ],
   "source": [
    "from ipywidgets import interact\n",
    "\n",
    "# Data for plotting\n",
    "t = np.arange(-2.0, 2.0, 0.01)\n",
    "\n",
    "def problem_1(N=10):\n",
    "    s = 1\n",
    "    for n in range(1, N, 2):\n",
    "        s += (8/np.pi)*(1/n)*np.sin(t*n*np.pi/2)/2\n",
    "\n",
    "    fig, ax = plt.subplots()\n",
    "    ax.plot(t, s)\n",
    "\n",
    "    ax.set(xlabel='x', ylabel='f(x)')\n",
    "\n",
    "    plt.show()\n",
    "    \n",
    "interact(problem_1, N=(2, 30, 1));"
   ]
  },
  {
   "cell_type": "markdown",
   "metadata": {},
   "source": [
    "## 2. Why does the series in problem 1 have no cosine term? \n",
    "\n",
    "Because $f$ is a vertical translation of an odd function."
   ]
  },
  {
   "cell_type": "markdown",
   "metadata": {},
   "source": [
    "## 3. Find the Fourier Transform of $f(x)$"
   ]
  },
  {
   "cell_type": "markdown",
   "metadata": {},
   "source": [
    "### a) $f(x) = \\begin{cases} e^x & -a \\lt x \\lt a \\\\ 0 & \\text{otherwise} \\end{cases} $"
   ]
  },
  {
   "cell_type": "markdown",
   "metadata": {},
   "source": [
    "From the table\n",
    "\n",
    "$\\large  f(x) = \\frac{e^{(1-iw)b} - e^{-(1-iw)b}}{\\sqrt{2\\pi}(1-iw)}$\n",
    "\n",
    "$\\large  = \\frac{2\\cosh(1-iw)}{\\sqrt{2\\pi}(1-iw)}$"
   ]
  },
  {
   "cell_type": "markdown",
   "metadata": {},
   "source": [
    "### b) $f(x) = \\begin{cases} xe^{-x} & x \\gt 0 \\\\ 0 & \\text{otherwise} \\end{cases} $"
   ]
  },
  {
   "cell_type": "markdown",
   "metadata": {},
   "source": [
    "From the table\n",
    "\n",
    "$ \\large f(x) = x^1e^{-1x} = \\sqrt{\\frac{2}{\\pi}}\\frac{1}{(1 + w^2)^2}Re(1+iw)^2$"
   ]
  },
  {
   "cell_type": "markdown",
   "metadata": {},
   "source": [
    "## 4. Find the Fourier Cosine and the Fourier Sine Transformations of $f(x)$"
   ]
  },
  {
   "cell_type": "markdown",
   "metadata": {},
   "source": [
    "$\\large f(x) = \\begin{cases}\n",
    "x & 0 \\lt x \\lt 2 \\\\\n",
    "0 & x > 2\n",
    "\\end{cases}$"
   ]
  },
  {
   "cell_type": "markdown",
   "metadata": {},
   "source": [
    "$\\large \\hat{f}_c(w) = \\sqrt{\\frac{2}{\\pi}} \\int_0^\\infty f(x) \\cos wx~dx$\n",
    "\n",
    "$\\large = \\sqrt{\\frac{2}{\\pi}} \\int_0^2 x \\cos wx~dx + 0$\n",
    "\n",
    "$\\large = \\sqrt{\\frac{2}{\\pi}} \\frac{(2\\sin w)(2w\\cos w - \\sin w)}{w^2}$"
   ]
  },
  {
   "cell_type": "markdown",
   "metadata": {},
   "source": [
    "$\\large \\hat{f}_s(w) = \\sqrt{\\frac{2}{\\pi}} \\int_0^\\infty f(x) \\sin wx~dx$\n",
    "\n",
    "$\\large = \\sqrt{\\frac{2}{\\pi}} \\int_0^2 x \\sin wx~dx + 0$\n",
    "\n",
    "$\\large = \\sqrt{\\frac{2}{\\pi}} \\frac{(\\sin 2w)-2w(\\cos 2w)}{w^2}$"
   ]
  },
  {
   "cell_type": "markdown",
   "metadata": {},
   "source": [
    "## 5. Verify $u(x, t) = x^2 + t^2$ is a solution of the **Wave Equation** PDE"
   ]
  },
  {
   "cell_type": "markdown",
   "metadata": {},
   "source": [
    "One-Dimensional Wave Equation\n",
    "\n",
    "$\\large \\frac{\\partial^2 u}{\\partial t^2} = c^2\\frac{\\partial^2 u}{\\partial x^2}$\n",
    "\n",
    "$\\large 2 = c^22$\n",
    "\n",
    "$c^2 = 1$"
   ]
  },
  {
   "cell_type": "markdown",
   "metadata": {},
   "source": [
    "## 6. Verify $u(x, t) = e^{-t}sin(x)$ is a solution of the **Heat Equation** PDE"
   ]
  },
  {
   "cell_type": "markdown",
   "metadata": {},
   "source": [
    "One-Dimensional Heat Equation\n",
    "\n",
    "$\\large \\frac{\\partial u}{\\partial t} = c^2\\frac{\\partial^2 u}{\\partial x^2}$\n",
    "\n",
    "$\\large -e^{-t}sin(x) = -c^2~e^{-t}sin(x)$\n",
    "\n",
    "$c^2 = 1$"
   ]
  },
  {
   "cell_type": "markdown",
   "metadata": {},
   "source": [
    "## 7. Find $u(x,t)$ for the string of length $L=1$ and $c^2=1$ when the initial velocity is zero and the initial deflection with small k is $k~sin(3\\pi x)$"
   ]
  },
  {
   "cell_type": "markdown",
   "metadata": {},
   "source": [
    "Conditions\n",
    "* $u(0, t) = 0$\n",
    "* $u(1, t) = 0$\n",
    "* $u(x, 0) = k~sin(3\\pi x)$\n",
    "* $u_t(x, 0) = 0$"
   ]
  },
  {
   "cell_type": "markdown",
   "metadata": {},
   "source": [
    "$\\large u(x,t) = \\frac{1}{2}[f^*(x-ct) + f^*(x+ct)] $\n",
    "\n",
    "$\\large u(x,t) = \\frac{1}{2}[\\sin(3\\pi(x-t)) + \\sin(3\\pi(x+t))] $"
   ]
  },
  {
   "cell_type": "code",
   "execution_count": 4,
   "metadata": {},
   "outputs": [
    {
     "data": {
      "application/vnd.jupyter.widget-view+json": {
       "model_id": "b0edeb9e400a4bb09e361b6369df118b",
       "version_major": 2,
       "version_minor": 0
      },
      "text/plain": [
       "HBox(children=(Play(value=0), IntSlider(value=0)))"
      ]
     },
     "metadata": {},
     "output_type": "display_data"
    },
    {
     "data": {
      "application/vnd.jupyter.widget-view+json": {
       "model_id": "7bc1d8fd4ff248b189cd838a883c437f",
       "version_major": 2,
       "version_minor": 0
      },
      "text/plain": [
       "Output()"
      ]
     },
     "metadata": {},
     "output_type": "display_data"
    }
   ],
   "source": [
    "from ipywidgets import Play, HBox, IntSlider, jslink, interactive_output\n",
    "\n",
    "x = np.arange(0.0, 1.0, 0.01)\n",
    "\n",
    "def problem_7(t=0.0):\n",
    "    t = t/100\n",
    "    u = (1/2)*(np.sin(3*np.pi*(x-t)) + np.sin(3*np.pi*(x+t)))\n",
    "\n",
    "    fig, ax = plt.subplots()\n",
    "    ax.plot(x, u)\n",
    "\n",
    "    ax.set(xlabel='x', ylabel='u(x, t)')\n",
    "    plt.ylim(-1, 1)\n",
    "\n",
    "    plt.show()\n",
    "\n",
    "play = Play(value=0, min=0.0, max=100, step=1)\n",
    "slider = IntSlider(min=0.0, max=100, step=1)\n",
    "jslink((play, 'value'), (slider, 'value'))\n",
    "ui = HBox([play, slider])\n",
    "out = interactive_output(problem_7, {'t': slider})\n",
    "display(ui, out)\n"
   ]
  }
 ],
 "metadata": {
  "kernelspec": {
   "display_name": "Python 3",
   "language": "python",
   "name": "python3"
  },
  "language_info": {
   "codemirror_mode": {
    "name": "ipython",
    "version": 3
   },
   "file_extension": ".py",
   "mimetype": "text/x-python",
   "name": "python",
   "nbconvert_exporter": "python",
   "pygments_lexer": "ipython3",
   "version": "3.6.1"
  }
 },
 "nbformat": 4,
 "nbformat_minor": 2
}
